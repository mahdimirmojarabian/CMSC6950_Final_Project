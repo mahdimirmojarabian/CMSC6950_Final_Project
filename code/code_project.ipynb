{
 "cells": [
  {
   "cell_type": "markdown",
   "id": "a590802a",
   "metadata": {},
   "source": [
    "\n",
    "# <center>Final Project<center>\n",
    "# <center>Course: CMSC 6950 -- Fall 2023<center>\n",
    "## <center>Mohammadmahdi Mirmojarabian<center>\n",
    "## <center>Student Number: 202292549<center>\n",
    "---\n",
    "---"
   ]
  },
  {
   "cell_type": "markdown",
   "id": "4d1addaa",
   "metadata": {},
   "source": [
    "# About Dataset\n",
    "\n",
    "## Context\n",
    "Urban atmospheric pollutants are responsible for increasing the incidence of respiratory diseases in citizens, and some of them (e.g. benzene) are known to induce cancer in the case of\n",
    "prolonged exposure.\n",
    "\n",
    "In a case study, an Air Quality Chemical Multisensor Device was deployed on the field in an Italian city to measure the air quality over the passage of time. The output data is the responses of a gas multisensor device. The dataset can be downloaded from here: https://archive.ics.uci.edu/ml/datasets/Air+Quality.\n",
    "\n",
    "## Content\n",
    "\n",
    "The dataset contains 9357 rows of hourly averaged responses from an array of 5 metal oxide chemical sensors embedded in an Air Quality Chemical Multisensor Device. The device was located on the field in a highly polluted area, at road level, within an Italian city. Data was recorded from March 2004 to February 2005 (one year), representing the longest freely available recordings of on-field deployed air quality chemical sensor device responses. Ground Truth hourly averaged concentrations for CO, Non Methanic Hydrocarbons, Benzene, Total Nitrogen Oxides (NOx) and Nitrogen Dioxide (NO2) are provided by a co-located reference certified analyzer. Missing values are labeled with \"**-200**\".\n",
    "\n",
    "## Attributes\n",
    "\n",
    "* Date: (DD/MM/YYYY)\n",
    "\n",
    "\n",
    "* Time: (HH.MM.SS)\n",
    "\n",
    "\n",
    "* CO(GT):\tTrue hourly averaged CO concentration [**mg/m^3**] (reference analyzer)\n",
    "\n",
    "\n",
    "* PT08.S1(CO):\tPT08.S1 (tin oxide) hourly averaged sensor response (nominally CO targeted)\n",
    "\n",
    "\n",
    "* NMHC(GT):\tNon Metanic HydroCarbons concentration [**μg/m^3**] (reference analyzer)\n",
    "\n",
    "\n",
    "* C6H6(GT):\tTrue hourly averaged Benzene concentration [**μg/m^3**] (reference analyzer)\n",
    "\n",
    "\n",
    "* PT08.S2(NMHC):\tPT08.S2 (titania) hourly averaged sensor response (nominally NMHC targeted)\n",
    "\n",
    "\n",
    "* NOx (GT):\tTrue hourly averaged NOx concentration [**ppb**] (reference analyzer)\n",
    "\n",
    "\n",
    "* PT08.S3(NOx):\tPT08.S3 (tungsten oxide) hourly averaged sensor response\n",
    "\n",
    "\n",
    "* NO2(GT):\tTrue hourly averaged NO2 concentration [**μg/m^3**] (reference analyzer)\n",
    "\n",
    "\n",
    "* PT08.S4(NO2):\tPT08.S4 (tungsten oxide) hourly averaged sensor response\n",
    "\n",
    "\n",
    "* PT08.S5(O3):\tPT08.S5 (indium oxide) hourly averaged sensor response (nominally O3 targeted)\n",
    "\n",
    "\n",
    "* T:\tTemperature [**°C**]\n",
    "\n",
    "\n",
    "* RH:\tRelative Humidity (%)\n",
    "\n",
    "\n",
    "* AH:   Absolute Humidity\n",
    "------------------------------------------------------------------------------------"
   ]
  },
  {
   "cell_type": "code",
   "execution_count": null,
   "id": "84321865",
   "metadata": {},
   "outputs": [],
   "source": []
  }
 ],
 "metadata": {
  "kernelspec": {
   "display_name": "Python 3 (ipykernel)",
   "language": "python",
   "name": "python3"
  },
  "language_info": {
   "codemirror_mode": {
    "name": "ipython",
    "version": 3
   },
   "file_extension": ".py",
   "mimetype": "text/x-python",
   "name": "python",
   "nbconvert_exporter": "python",
   "pygments_lexer": "ipython3",
   "version": "3.9.16"
  }
 },
 "nbformat": 4,
 "nbformat_minor": 5
}
